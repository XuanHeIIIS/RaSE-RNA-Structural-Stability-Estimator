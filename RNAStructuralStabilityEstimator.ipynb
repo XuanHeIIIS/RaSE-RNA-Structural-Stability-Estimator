{
 "cells": [
  {
   "cell_type": "code",
   "execution_count": null,
   "metadata": {
    "collapsed": false
   },
   "outputs": [],
   "source": [
    "%load_ext autoreload\n",
    "%autoreload 2\n",
    "from IPython.core.display import HTML\n",
    "HTML('<style>.container { width:95% !important; }</style>')\n",
    "HTML('<style>.output_png {display: table-cell;text-align: center;vertical-align: middle;}</style>')"
   ]
  },
  {
   "cell_type": "code",
   "execution_count": null,
   "metadata": {
    "collapsed": true
   },
   "outputs": [],
   "source": [
    "%matplotlib inline\n",
    "import numpy as np\n",
    "import os\n",
    "import sys\n",
    "import matplotlib.pyplot as plt"
   ]
  },
  {
   "cell_type": "code",
   "execution_count": null,
   "metadata": {
    "collapsed": false
   },
   "outputs": [],
   "source": [
    "import time\n",
    "timestamp = time.strftime('%Y_%m_%d_%H_%M_%S')\n",
    "print timestamp"
   ]
  },
  {
   "cell_type": "code",
   "execution_count": null,
   "metadata": {
    "collapsed": true
   },
   "outputs": [],
   "source": [
    "root_dir = './'"
   ]
  },
  {
   "cell_type": "code",
   "execution_count": null,
   "metadata": {
    "collapsed": true
   },
   "outputs": [],
   "source": [
    "src_dir = os.path.join(root_dir, 'code')\n",
    "# add the 'code' directory as one where we can import modules\n",
    "# prepend it to the path so that it can mask mosubdules with the same name, i.e. eden\n",
    "sys.path = [src_dir] + sys.path"
   ]
  },
  {
   "cell_type": "code",
   "execution_count": null,
   "metadata": {
    "collapsed": true
   },
   "outputs": [],
   "source": [
    "out_data_dir = os.path.join(root_dir, timestamp)\n",
    "if not os.path.exists(out_data_dir): os.mkdir(out_data_dir)"
   ]
  },
  {
   "cell_type": "code",
   "execution_count": null,
   "metadata": {
    "collapsed": true
   },
   "outputs": [],
   "source": [
    "# configure logger\n",
    "from eden.util import configure_logging\n",
    "import logging\n",
    "logger = logging.getLogger()\n",
    "log_fname = os.path.join(out_data_dir, 'log.txt')\n",
    "configure_logging(logger, verbosity=1, filename=log_fname)"
   ]
  },
  {
   "cell_type": "code",
   "execution_count": null,
   "metadata": {
    "collapsed": true
   },
   "outputs": [],
   "source": [
    "from toolz import curry, compose, pipe, take"
   ]
  },
  {
   "cell_type": "code",
   "execution_count": null,
   "metadata": {
    "collapsed": true
   },
   "outputs": [],
   "source": [
    "import requests\n",
    "\n",
    "def save(text, full_out_file_name):\n",
    "    with open(full_out_file_name, 'w') as f:\n",
    "        for line in text:\n",
    "            f.write(\"%s\\n\" % line.encode('utf8').strip())\n",
    "\n",
    "def rfam_uri(family_id, out_data_dir):\n",
    "    # retrieve the seed sequences from RFAM and save them to file\n",
    "    uri = 'http://rfam.xfam.org/family/%s/alignment?acc=%s&format=fastau&download=0'%(family_id,family_id) \n",
    "    rfam_dir = os.path.join(out_data_dir, 'RNA')\n",
    "    fname = family_id + '.fa'\n",
    "    if not os.path.exists(rfam_dir):\n",
    "        os.mkdir(rfam_dir)\n",
    "    full_out_file_name = os.path.join(rfam_dir, fname)\n",
    "    if not os.path.isfile(full_out_file_name):\n",
    "        text = requests.get(uri).text.split('\\n')\n",
    "        save(text, full_out_file_name)\n",
    "    return full_out_file_name"
   ]
  },
  {
   "cell_type": "code",
   "execution_count": null,
   "metadata": {
    "collapsed": false
   },
   "outputs": [],
   "source": [
    "rfam_id = 'RF00005' #tRNA\n",
    "data = rfam_uri(rfam_id, out_data_dir)\n",
    "\n",
    "from eden.converter.fasta import fasta_to_sequence\n",
    "seqs = list(fasta_to_sequence(data))"
   ]
  },
  {
   "cell_type": "code",
   "execution_count": null,
   "metadata": {
    "collapsed": false
   },
   "outputs": [],
   "source": [
    "header, seq = seqs[3]\n",
    "print header\n",
    "print seq"
   ]
  },
  {
   "cell_type": "code",
   "execution_count": null,
   "metadata": {
    "collapsed": false
   },
   "outputs": [],
   "source": [
    "# setup\n",
    "complexity=3\n",
    "nbits=15\n",
    "\n",
    "from RaSE import make_fold\n",
    "fold = make_fold(window_size=70,\n",
    "                  max_bp_span=70,\n",
    "                  avg_bp_prob_cutoff=0.1,\n",
    "                  hard_threshold=0.5,\n",
    "                  max_num_edges=2,\n",
    "                  no_lonely_bps=True,\n",
    "                  nesting=True)"
   ]
  },
  {
   "cell_type": "code",
   "execution_count": null,
   "metadata": {
    "collapsed": false
   },
   "outputs": [],
   "source": [
    "from RaSE import make_fold_vectorize, stability\n",
    "fold_vectorize = make_fold_vectorize(complexity=complexity,nbits=nbits,fold=fold)\n",
    "snips, scores = stability(seq, alphabet='ACGU',fold_vectorize=fold_vectorize)\n",
    "\n",
    "print snips\n",
    "print scores"
   ]
  },
  {
   "cell_type": "code",
   "execution_count": null,
   "metadata": {
    "collapsed": false,
    "scrolled": false
   },
   "outputs": [],
   "source": [
    "from RaSE import rna_structural_stability_estimate\n",
    "rase = curry(rna_structural_stability_estimate)(k=5, complexity=complexity, nbits=nbits, fold=fold)\n",
    "for line in rase(seq): print(line)"
   ]
  },
  {
   "cell_type": "code",
   "execution_count": null,
   "metadata": {
    "collapsed": false
   },
   "outputs": [],
   "source": [
    "from RaSE import draw\n",
    "draw(seq, fold=fold, complexity=complexity, nbits=nbits)"
   ]
  },
  {
   "cell_type": "markdown",
   "metadata": {},
   "source": [
    "---"
   ]
  }
 ],
 "metadata": {
  "kernelspec": {
   "display_name": "Python 2",
   "language": "python",
   "name": "python2"
  },
  "language_info": {
   "codemirror_mode": {
    "name": "ipython",
    "version": 2
   },
   "file_extension": ".py",
   "mimetype": "text/x-python",
   "name": "python",
   "nbconvert_exporter": "python",
   "pygments_lexer": "ipython2",
   "version": "2.7.12"
  }
 },
 "nbformat": 4,
 "nbformat_minor": 0
}
